{
 "cells": [
  {
   "cell_type": "code",
   "execution_count": null,
   "id": "a1d03997",
   "metadata": {},
   "outputs": [],
   "source": [
    "# Azure storage access info\n",
    "blob_account_name = \"azureopendatastorage\"\n",
    "blob_container_name = \"laborstatisticscontainer\"\n",
    "blob_relative_path = \"ehe_national/\"\n",
    "blob_sas_token = r\"\""
   ]
  },
  {
   "cell_type": "code",
   "execution_count": null,
   "id": "1cce5d38",
   "metadata": {},
   "outputs": [],
   "source": [
    "# Allow SPARK to read from Blob remotely\n",
    "wasbs_path = 'wasbs://%s@%s.blob.core.windows.net/%s' % (blob_container_name, blob_account_name, blob_relative_path)\n",
    "spark.conf.set(\n",
    "  'fs.azure.sas.%s.%s.blob.core.windows.net' % (blob_container_name, blob_account_name),\n",
    "  blob_sas_token)\n",
    "print('Remote blob path: ' + wasbs_path)"
   ]
  },
  {
   "cell_type": "code",
   "execution_count": null,
   "id": "7bd76010",
   "metadata": {},
   "outputs": [],
   "source": [
    "# SPARK read parquet, note that it won't load any data yet by now\n",
    "df = spark.read.parquet(wasbs_path)\n",
    "print('Register the DataFrame as a SQL temporary view: source')\n",
    "df.createOrReplaceTempView('source')"
   ]
  },
  {
   "cell_type": "code",
   "execution_count": null,
   "id": "fdb736e9",
   "metadata": {},
   "outputs": [],
   "source": [
    "# Display top 10 rows\n",
    "print('Displaying top 10 rows: ')\n",
    "display(spark.sql('SELECT * FROM source LIMIT 10'))"
   ]
  },
  {
   "cell_type": "markdown",
   "id": "26cd116b",
   "metadata": {},
   "source": [
    "# azureml.opendatasets"
   ]
  },
  {
   "cell_type": "code",
   "execution_count": 4,
   "id": "9340721e",
   "metadata": {},
   "outputs": [
    {
     "name": "stdout",
     "output_type": "stream",
     "text": [
      "PATH: c:\\New folder (5)\\MCPSERVERLangchain\\mcpdatavisbackend\\.venv\\Scripts;C:\\New folder (5)\\MCPSERVERLangchain\\mcpdatavisbackend\\.venv\\Scripts;C:\\Program Files\\Microsoft SDKs\\Azure\\CLI2\\wbin;C:\\Program Files\\MySQL\\MySQL Shell 8.0\\bin\\;C:\\Users\\jimmy\\.jbang\\bin;C:\\Users\\jimmy\\Downloads\\acorn-v0.10.1-windows-amd64;C:\\WindowsC:\\Program Files\\PostgreSQL\\16\\bin;C:\\Program Files\\PostgreSQL\\16\\lib;C:\\Windows;C:\\Users\\jimmy\\AppData\\Local\\Programs\\Microsoft VS Code\\bin;C:\\Users\\jimmy\\AppData\\Local\\atom\\bin;C:\\Program Files\\qemu;C:\\Program Files\\VirtViewer v11.0-256\\bin;C:\\Users\\jimmy\\anaconda3\\Lib;C:\\Users\\jimmy\\Downloads\\jbang-0.116.0\\bin;C:\\Users\\jimmy\\Downloads\\jdk-21_windows-x64_bin\\jdk-21.0.2\\bin;C:\\Program Files\\Git\\cmd;C:\\Program Files\\nodejs\\;C:\\ProgramData\\chocolatey\\choco.exe\\bin;C:\\Program Files\\Microsoft Visual Studio\\2022\\Community\\VC\\Tools\\MSVC\\14.41.34120\\bin\\Hostx86\\x64;C:\\Program Files (x86)\\NVIDIA Corporation\\PhysX\\Common;C:\\Program Files\\Docker\\Docker\\resources\\bin;C:\\Users\\jimmy\\Downloads\\apache-maven-3.9.9-bin\\apache-maven-3.9.9\\bin;C:\\Program Files\\Vagrant\\bin;C:\\Windows\\System32\\OpenSSH;C:\\Windows\\System32;C:\\Program Files\\MySQL\\MySQL Utilities 1.6\\;C:\\Users\\jimmy\\Downloads\\ffmpeg-2025-05-01-git-707c04fe06-full_build\\bin;C:\\poppler\\Library\\bin;C:\\Program Files\\Tesseract-OCR;C:\\Program Files\\Blender Foundation\\Blender 4.4;C:\\Users\\jimmy\\AppData\\Local\\Programs\\Python\\Python310\\Scripts\\;C:\\Users\\jimmy\\AppData\\Local\\Programs\\Python\\Python310\\;C:\\Program Files\\MySQL\\MySQL Shell 9.2\\bin\\;C:\\Python312\\;C:\\Python312\\Scripts\\;C:\\Users\\jimmy\\.jbang\\bin;C:\\Users\\jimmy\\Downloads\\acorn-v0.10.1-windows-amd64;C:\\WindowsC:\\Program Files\\PostgreSQL\\16\\bin;C:\\Program Files\\PostgreSQL\\16\\lib;C:\\Windows;C:\\Users\\jimmy\\AppData\\Local\\Programs\\Microsoft VS Code\\bin;C:\\Users\\jimmy\\AppData\\Local\\atom\\bin;C:\\Program Files\\qemu;C:\\Program Files\\VirtViewer v11.0-256\\bin;C:\\Users\\jimmy\\anaconda3\\Lib;C:\\Users\\jimmy\\Downloads\\jbang-0.116.0\\bin;C:\\Users\\jimmy\\Downloads\\jdk-21_windows-x64_bin\\jdk-21.0.2\\bin;C:\\Users\\jimmy\\AppData\\Roaming\\npm;C:\\Program Files\\nodejs;C:\\ProgramData\\chocolatey;C:\\Users\\jimmy\\AppData\\Local\\Pandoc\\;C:\\Program Files\\Microsoft Visual Studio\\2022\\Community\\VC\\Tools\\MSVC\\14.41.34120\\bin\\Hostx86\\x64;C:\\Users\\jimmy\\Downloads\\curl-8.10.1_3-win64-mingw\\curl-8.10.1_3-win64-mingw\\bin;C:\\Program Files\\Docker\\Docker\\resources\\bin;C:\\Users\\jimmy\\Downloads\\apache-maven-3.9.9-bin\\apache-maven-3.9.9\\bin;C:\\Users\\jimmy\\Downloads\\dos2unix-7.5.2-win64\\bin;C:\\Users\\jimmy\\Downloads\\terraform_1.11.2_windows_386;C:\\Users\\jimmy\\Downloads\\ffmpeg-2025-05-01-git-707c04fe06-full_build\\bin;C:\\poppler\\Library\\bin;C:\\Program Files\\Tesseract-OCR;C:\\Program Files\\Blender Foundation\\Blender 4.4;\n",
      "JAVA_HOME: C:\\Users\\jimmy\\Downloads\\jdk-21_windows-x64_bin\\jdk-21.0.2\n",
      "Java version:\n",
      "java version \"21.0.2\" 2024-01-16 LTS\n",
      "Java(TM) SE Runtime Environment (build 21.0.2+13-LTS-58)\n",
      "Java HotSpot(TM) 64-Bit Server VM (build 21.0.2+13-LTS-58, mixed mode, sharing)\n",
      "\n",
      "Error creating Spark DataFrame: [JAVA_GATEWAY_EXITED] Java gateway process exited before sending its port number.\n",
      "Ensure that Java is installed and Spark session is running.\n"
     ]
    }
   ],
   "source": [
    "# Check if Java is installed and JAVA_HOME is set\n",
    "import os\n",
    "import subprocess\n",
    "\n",
    "print(\"PATH:\", os.environ.get(\"PATH\"))\n",
    "print(\"JAVA_HOME:\", os.environ.get(\"JAVA_HOME\"))\n",
    "\n",
    "try:\n",
    "\tprint(\"Java version:\")\n",
    "\tprint(subprocess.check_output([\"java\", \"-version\"], stderr=subprocess.STDOUT).decode())\n",
    "except Exception as e:\n",
    "\tprint(\"Java is not installed or not found in PATH:\", e)\n",
    "\tprint(\"If running locally, please install Java (JDK 8 or 11) and set JAVA_HOME environment variable.\")\n",
    "\t# If running in Azure Databricks or a managed environment, Java should already be installed.\n",
    "\n",
    "# Only run the following if Java is installed and Spark session is running\n",
    "try:\n",
    "\tfrom azureml.opendatasets import UsLaborEHENational\n",
    "\n",
    "\tusLaborEHENational = UsLaborEHENational()\n",
    "\tusLaborEHENational_df = usLaborEHENational.to_spark_dataframe()\n",
    "except Exception as spark_e:\n",
    "\tprint(\"Error creating Spark DataFrame:\", spark_e)\n",
    "\tprint(\"Ensure that Java is installed and Spark session is running.\")"
   ]
  },
  {
   "cell_type": "code",
   "execution_count": null,
   "id": "daebe72d",
   "metadata": {},
   "outputs": [],
   "source": [
    "display(usLaborEHENational_df.limit(5))"
   ]
  },
  {
   "cell_type": "code",
   "execution_count": null,
   "id": "3ac9ba65",
   "metadata": {},
   "outputs": [],
   "source": []
  }
 ],
 "metadata": {
  "kernelspec": {
   "display_name": ".venv",
   "language": "python",
   "name": "python3"
  },
  "language_info": {
   "codemirror_mode": {
    "name": "ipython",
    "version": 3
   },
   "file_extension": ".py",
   "mimetype": "text/x-python",
   "name": "python",
   "nbconvert_exporter": "python",
   "pygments_lexer": "ipython3",
   "version": "3.10.11"
  }
 },
 "nbformat": 4,
 "nbformat_minor": 5
}
